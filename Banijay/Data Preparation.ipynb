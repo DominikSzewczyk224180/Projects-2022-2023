{
 "cells": [
  {
   "cell_type": "code",
   "execution_count": 2,
   "metadata": {},
   "outputs": [
    {
     "name": "stdout",
     "output_type": "stream",
     "text": [
      "1.4.4\n"
     ]
    }
   ],
   "source": [
    "import pandas as pd\n",
    "print(pd.__version__)"
   ]
  },
  {
   "cell_type": "code",
   "execution_count": 3,
   "metadata": {},
   "outputs": [],
   "source": [
    "df = pd.read_csv('banijay_op1data_ratings_raw.csv', sep = ',', decimal = \".\", compression='zip')\n"
   ]
  },
  {
   "cell_type": "code",
   "execution_count": 4,
   "metadata": {},
   "outputs": [],
   "source": [
    "# df.to_csv('banijay_op1data_ratings_raw.zip', compression='zip')"
   ]
  },
  {
   "cell_type": "code",
   "execution_count": 5,
   "metadata": {},
   "outputs": [
    {
     "name": "stdout",
     "output_type": "stream",
     "text": [
      "   Unnamed: 0       Datum      Time Program Station        Target Group  \\\n",
      "0           0  2020-01-06  22:18:00     op1    npo1            tot6plus   \n",
      "1           1  2020-01-06  22:18:00     op1    npo1            tot6plus   \n",
      "2           2  2020-01-06  22:18:00     op1    npo1            tot6plus   \n",
      "3           3  2020-01-06  22:18:00     op1    npo1  boodschapper_20_49   \n",
      "4           4  2020-01-06  22:18:00     op1    npo1  boodschapper_20_49   \n",
      "\n",
      "                  Broadcast Type Ratings Type       Kdh%       Kdh000  \\\n",
      "0  live/prerecorded uitzendingen   uitzenddag   9.676969  1546.863437   \n",
      "1  live/prerecorded uitzendingen   uitgesteld   1.484044   237.224411   \n",
      "2  live/prerecorded uitzendingen       totaal  10.299407  1646.360210   \n",
      "3  live/prerecorded uitzendingen   uitzenddag   3.217735   117.833443   \n",
      "4  live/prerecorded uitzendingen   uitgesteld   1.146627    41.989484   \n",
      "\n",
      "       Zadl%  \n",
      "0  30.881672  \n",
      "1  24.692727  \n",
      "2  29.962268  \n",
      "3  14.746563  \n",
      "4  17.021271  \n"
     ]
    }
   ],
   "source": [
    "print(df.head(5))"
   ]
  },
  {
   "cell_type": "code",
   "execution_count": 6,
   "metadata": {},
   "outputs": [
    {
     "name": "stdout",
     "output_type": "stream",
     "text": [
      "<class 'pandas.core.frame.DataFrame'>\n",
      "RangeIndex: 1304190 entries, 0 to 1304189\n",
      "Data columns (total 11 columns):\n",
      " #   Column          Non-Null Count    Dtype  \n",
      "---  ------          --------------    -----  \n",
      " 0   Unnamed: 0      1304190 non-null  int64  \n",
      " 1   Datum           1304190 non-null  object \n",
      " 2   Time            1304190 non-null  object \n",
      " 3   Program         1304190 non-null  object \n",
      " 4   Station         1304190 non-null  object \n",
      " 5   Target Group    1304190 non-null  object \n",
      " 6   Broadcast Type  1304190 non-null  object \n",
      " 7   Ratings Type    1304190 non-null  object \n",
      " 8   Kdh%            1303316 non-null  float64\n",
      " 9   Kdh000          1303316 non-null  float64\n",
      " 10  Zadl%           1251982 non-null  float64\n",
      "dtypes: float64(3), int64(1), object(7)\n",
      "memory usage: 109.5+ MB\n"
     ]
    }
   ],
   "source": [
    "df.info()\n"
   ]
  },
  {
   "cell_type": "code",
   "execution_count": 7,
   "metadata": {},
   "outputs": [
    {
     "name": "stdout",
     "output_type": "stream",
     "text": [
      "Unnamed: 0\n",
      "Datum\n",
      "Time\n",
      "Program\n",
      "Station\n",
      "Target Group\n",
      "Broadcast Type\n",
      "Ratings Type\n",
      "Kdh%\n",
      "Kdh000\n",
      "Zadl%\n"
     ]
    }
   ],
   "source": [
    "for col in df:\n",
    "    print(col)"
   ]
  },
  {
   "cell_type": "code",
   "execution_count": 8,
   "metadata": {},
   "outputs": [
    {
     "name": "stdout",
     "output_type": "stream",
     "text": [
      "<class 'str'>\n",
      "<class 'str'>\n",
      "<class 'str'>\n",
      "<class 'str'>\n",
      "<class 'str'>\n",
      "<class 'str'>\n",
      "<class 'str'>\n",
      "<class 'str'>\n",
      "<class 'str'>\n",
      "<class 'str'>\n",
      "<class 'str'>\n"
     ]
    }
   ],
   "source": [
    "for col in df:\n",
    "    print(type(col))"
   ]
  },
  {
   "cell_type": "code",
   "execution_count": 9,
   "metadata": {},
   "outputs": [
    {
     "name": "stdout",
     "output_type": "stream",
     "text": [
      "['tot6plus' 'boodschapper_20_49' 'boodschapper_25_54' '6_12_jr' '13_19_jr'\n",
      " '20_34_jr' '35_49_jr' '50plus_jr' 'm_6plus_jr' 'v_6plus_jr']\n"
     ]
    }
   ],
   "source": [
    "print(df[\"Target Group\"].unique())"
   ]
  },
  {
   "cell_type": "code",
   "execution_count": 10,
   "metadata": {},
   "outputs": [],
   "source": [
    "import matplotlib.pyplot as plt\n"
   ]
  },
  {
   "cell_type": "code",
   "execution_count": 11,
   "metadata": {},
   "outputs": [
    {
     "name": "stdout",
     "output_type": "stream",
     "text": [
      "0    1546.863437\n",
      "1     237.224411\n",
      "2    1646.360210\n",
      "3     117.833443\n",
      "4      41.989484\n",
      "Name: Kdh000, dtype: float64\n"
     ]
    }
   ],
   "source": [
    "print(df[\"Kdh000\"].head())"
   ]
  },
  {
   "cell_type": "code",
   "execution_count": 12,
   "metadata": {},
   "outputs": [
    {
     "name": "stdout",
     "output_type": "stream",
     "text": [
      "Unnamed: 0          int64\n",
      "Datum              object\n",
      "Time               object\n",
      "Program            object\n",
      "Station            object\n",
      "Target Group       object\n",
      "Broadcast Type     object\n",
      "Ratings Type       object\n",
      "Kdh%              float64\n",
      "Kdh000            float64\n",
      "Zadl%             float64\n",
      "dtype: object\n"
     ]
    }
   ],
   "source": [
    "print(df.dtypes)"
   ]
  },
  {
   "cell_type": "code",
   "execution_count": 13,
   "metadata": {},
   "outputs": [
    {
     "data": {
      "image/png": "[encoded data removed]",
      "text/plain": [
       "<Figure size 640x480 with 1 Axes>"
      ]
     },
     "metadata": {},
     "output_type": "display_data"
    }
   ],
   "source": [
    "plt.hist(df[\"Kdh000\"])\n",
    "plt.show()"
   ]
  },
  {
   "cell_type": "code",
   "execution_count": 14,
   "metadata": {},
   "outputs": [
    {
     "data": {
      "text/plain": [
       "<AxesSubplot:>"
      ]
     },
     "execution_count": 14,
     "metadata": {},
     "output_type": "execute_result"
    },
    {
     "data": {
      "image/png": "[encoded data removed]",
      "text/plain": [
       "<Figure size 640x480 with 1 Axes>"
      ]
     },
     "metadata": {},
     "output_type": "display_data"
    }
   ],
   "source": [
    "df[\"Kdh000\"].plot(kind = 'box')"
   ]
  },
  {
   "cell_type": "code",
   "execution_count": 15,
   "metadata": {},
   "outputs": [],
   "source": [
    "df2 = df.set_index(\"Ratings Type\")\n",
    "df2_t = df2.loc[\"totaal\"]"
   ]
  },
  {
   "cell_type": "code",
   "execution_count": 16,
   "metadata": {},
   "outputs": [
    {
     "name": "stdout",
     "output_type": "stream",
     "text": [
      "              Unnamed: 0       Datum      Time Program Station  \\\n",
      "Ratings Type                                                     \n",
      "totaal                 2  2020-01-06  22:18:00     op1    npo1   \n",
      "totaal                 5  2020-01-06  22:18:00     op1    npo1   \n",
      "totaal                 8  2020-01-06  22:18:00     op1    npo1   \n",
      "totaal                11  2020-01-06  22:18:00     op1    npo1   \n",
      "totaal                14  2020-01-06  22:18:00     op1    npo1   \n",
      "\n",
      "                    Target Group                 Broadcast Type       Kdh%  \\\n",
      "Ratings Type                                                                 \n",
      "totaal                  tot6plus  live/prerecorded uitzendingen  10.299407   \n",
      "totaal        boodschapper_20_49  live/prerecorded uitzendingen   3.975244   \n",
      "totaal        boodschapper_25_54  live/prerecorded uitzendingen   6.271663   \n",
      "totaal                   6_12_jr  live/prerecorded uitzendingen   1.025859   \n",
      "totaal                  13_19_jr  live/prerecorded uitzendingen   2.895596   \n",
      "\n",
      "                   Kdh000      Zadl%  \n",
      "Ratings Type                          \n",
      "totaal        1646.360210  29.962268  \n",
      "totaal         145.573420  15.812862  \n",
      "totaal         251.242825  20.356892  \n",
      "totaal          13.510569  39.202527  \n",
      "totaal          41.783444  22.875262  \n"
     ]
    }
   ],
   "source": [
    "print(df2_t.head())"
   ]
  },
  {
   "cell_type": "code",
   "execution_count": 17,
   "metadata": {},
   "outputs": [
    {
     "data": {
      "text/plain": [
       "array([[<AxesSubplot:title={'center':'13_19_jr'}>,\n",
       "        <AxesSubplot:title={'center':'20_34_jr'}>,\n",
       "        <AxesSubplot:title={'center':'35_49_jr'}>],\n",
       "       [<AxesSubplot:title={'center':'50plus_jr'}>,\n",
       "        <AxesSubplot:title={'center':'6_12_jr'}>,\n",
       "        <AxesSubplot:title={'center':'boodschapper_20_49'}>],\n",
       "       [<AxesSubplot:title={'center':'boodschapper_25_54'}>,\n",
       "        <AxesSubplot:title={'center':'m_6plus_jr'}>,\n",
       "        <AxesSubplot:title={'center':'tot6plus'}>],\n",
       "       [<AxesSubplot:title={'center':'v_6plus_jr'}>, <AxesSubplot:>,\n",
       "        <AxesSubplot:>]], dtype=object)"
      ]
     },
     "execution_count": 17,
     "metadata": {},
     "output_type": "execute_result"
    },
    {
     "data": {
      "image/png": "[encoded data removed]",
      "text/plain": [
       "<Figure size 640x480 with 12 Axes>"
      ]
     },
     "metadata": {},
     "output_type": "display_data"
    }
   ],
   "source": [
    "df2_t.hist(column=\"Kdh000\", by=\"Target Group\")\n"
   ]
  },
  {
   "cell_type": "markdown",
   "metadata": {},
   "source": [
    "Ratings data preparation\n"
   ]
  },
  {
   "cell_type": "code",
   "execution_count": 18,
   "metadata": {},
   "outputs": [
    {
     "data": {
      "text/plain": [
       "Unnamed: 0            0\n",
       "Datum                 0\n",
       "Time                  0\n",
       "Program               0\n",
       "Station               0\n",
       "Target Group          0\n",
       "Broadcast Type        0\n",
       "Ratings Type          0\n",
       "Kdh%                874\n",
       "Kdh000              874\n",
       "Zadl%             52208\n",
       "dtype: int64"
      ]
     },
     "execution_count": 18,
     "metadata": {},
     "output_type": "execute_result"
    }
   ],
   "source": [
    "df.isna().sum()"
   ]
  },
  {
   "cell_type": "code",
   "execution_count": 19,
   "metadata": {},
   "outputs": [],
   "source": [
    "df = df.dropna()"
   ]
  },
  {
   "cell_type": "code",
   "execution_count": 20,
   "metadata": {},
   "outputs": [
    {
     "data": {
      "text/plain": [
       "0"
      ]
     },
     "execution_count": 20,
     "metadata": {},
     "output_type": "execute_result"
    }
   ],
   "source": [
    "df.duplicated().sum()"
   ]
  },
  {
   "cell_type": "code",
   "execution_count": 21,
   "metadata": {},
   "outputs": [
    {
     "data": {
      "text/plain": [
       "Unnamed: 0          int64\n",
       "Datum              object\n",
       "Time               object\n",
       "Program            object\n",
       "Station            object\n",
       "Target Group       object\n",
       "Broadcast Type     object\n",
       "Ratings Type       object\n",
       "Kdh%              float64\n",
       "Kdh000            float64\n",
       "Zadl%             float64\n",
       "dtype: object"
      ]
     },
     "execution_count": 21,
     "metadata": {},
     "output_type": "execute_result"
    }
   ],
   "source": [
    "df.dtypes"
   ]
  },
  {
   "cell_type": "code",
   "execution_count": 22,
   "metadata": {},
   "outputs": [],
   "source": [
    "df[\"date_time\"] = pd.to_datetime(df[\"Datum\"] + \" \" + df[\"Time\"])"
   ]
  },
  {
   "cell_type": "code",
   "execution_count": 23,
   "metadata": {},
   "outputs": [
    {
     "name": "stdout",
     "output_type": "stream",
     "text": [
      "0         2020-01-06 22:18:00\n",
      "1         2020-01-06 22:18:00\n",
      "2         2020-01-06 22:18:00\n",
      "3         2020-01-06 22:18:00\n",
      "4         2020-01-06 22:18:00\n",
      "                  ...        \n",
      "1304185   2022-10-20 23:52:00\n",
      "1304186   2022-10-20 23:52:00\n",
      "1304187   2022-10-20 23:52:00\n",
      "1304188   2022-10-20 23:52:00\n",
      "1304189   2022-10-20 23:52:00\n",
      "Name: date_time, Length: 1251982, dtype: datetime64[ns]\n"
     ]
    }
   ],
   "source": [
    "print(df[\"date_time\"])"
   ]
  },
  {
   "cell_type": "code",
   "execution_count": 24,
   "metadata": {},
   "outputs": [],
   "source": [
    "df.to_csv('banijay_op1data_ratings_raw.zip', compression='zip')"
   ]
  },
  {
   "cell_type": "markdown",
   "metadata": {},
   "source": [
    "Linking Content Data to Ratings Data"
   ]
  },
  {
   "cell_type": "code",
   "execution_count": 25,
   "metadata": {},
   "outputs": [],
   "source": [
    "df_c= pd.read_csv('banijay_op1data_content_processed.csv')"
   ]
  },
  {
   "cell_type": "code",
   "execution_count": 26,
   "metadata": {},
   "outputs": [],
   "source": [
    "df_c[\"date_time_end\"] = df_c[\"date\"] + \" \" + df_c[\"end\"]\n",
    "df_c[\"date_time_start\"] = df_c[\"date\"] + \" \" + df_c[\"start\"]\n",
    "\n",
    "\n",
    "df_c[\"date_time_end\"] = pd.to_datetime(df_c[\"date_time_end\"],format='%d-%m-%Y %H:%M:%S')\n",
    "df_c[\"date_time_start\"] = pd.to_datetime(df_c[\"date_time_start\"],format='%d-%m-%Y %H:%M:%S')\n",
    "df[\"date_time\"] = pd.to_datetime(df[\"date_time\"],format='%d-%m-%Y %H:%M:%S')\n",
    "\n",
    "\n",
    "# df_c[\"date_time_end\"] = pd.to_datetime(df_c[\"date_time_end\"],infer_datetime_format=True)\n",
    "# df_c[\"date_time_start\"] = pd.to_datetime(df_c[\"date_time_start\"],infer_datetime_format=True)\n"
   ]
  },
  {
   "cell_type": "code",
   "execution_count": 27,
   "metadata": {},
   "outputs": [
    {
     "data": {
      "text/html": [
       "<div>\n",
       "<style scoped>\n",
       "    .dataframe tbody tr th:only-of-type {\n",
       "        vertical-align: middle;\n",
       "    }\n",
       "\n",
       "    .dataframe tbody tr th {\n",
       "        vertical-align: top;\n",
       "    }\n",
       "\n",
       "    .dataframe thead th {\n",
       "        text-align: right;\n",
       "    }\n",
       "</style>\n",
       "<table border=\"1\" class=\"dataframe\">\n",
       "  <thead>\n",
       "    <tr style=\"text-align: right;\">\n",
       "      <th></th>\n",
       "      <th>Unnamed: 0</th>\n",
       "      <th>date</th>\n",
       "      <th>hosts</th>\n",
       "      <th>id</th>\n",
       "      <th>length</th>\n",
       "      <th>start</th>\n",
       "      <th>end</th>\n",
       "      <th>title</th>\n",
       "      <th>summary</th>\n",
       "      <th>keywords</th>\n",
       "      <th>date_time_start</th>\n",
       "      <th>date_time_end</th>\n",
       "      <th>show_id</th>\n",
       "      <th>fragment</th>\n",
       "    </tr>\n",
       "  </thead>\n",
       "  <tbody>\n",
       "    <tr>\n",
       "      <th>496</th>\n",
       "      <td>496</td>\n",
       "      <td>06-01-2020</td>\n",
       "      <td>['Veenhoven, Willemijn', 'Dijkstra, Erik']</td>\n",
       "      <td>OP1__________-WON02072823_01</td>\n",
       "      <td>00:14:31</td>\n",
       "      <td>22:23:38</td>\n",
       "      <td>22:38:09</td>\n",
       "      <td>Minister van Defensie Ank Bijleveld: \"Nederlan...</td>\n",
       "      <td>De dood van de Iraanse generaal Soleimani door...</td>\n",
       "      <td>['spanningen', 'iraanse', 'generaal']</td>\n",
       "      <td>2020-01-06 22:23:38</td>\n",
       "      <td>2020-01-06 22:38:09</td>\n",
       "      <td>OP1__________-WON02072823</td>\n",
       "      <td>1</td>\n",
       "    </tr>\n",
       "  </tbody>\n",
       "</table>\n",
       "</div>"
      ],
      "text/plain": [
       "     Unnamed: 0        date                                       hosts  \\\n",
       "496         496  06-01-2020  ['Veenhoven, Willemijn', 'Dijkstra, Erik']   \n",
       "\n",
       "                               id    length     start       end  \\\n",
       "496  OP1__________-WON02072823_01  00:14:31  22:23:38  22:38:09   \n",
       "\n",
       "                                                 title  \\\n",
       "496  Minister van Defensie Ank Bijleveld: \"Nederlan...   \n",
       "\n",
       "                                               summary  \\\n",
       "496  De dood van de Iraanse generaal Soleimani door...   \n",
       "\n",
       "                                  keywords     date_time_start  \\\n",
       "496  ['spanningen', 'iraanse', 'generaal'] 2020-01-06 22:23:38   \n",
       "\n",
       "          date_time_end                    show_id  fragment  \n",
       "496 2020-01-06 22:38:09  OP1__________-WON02072823         1  "
      ]
     },
     "execution_count": 27,
     "metadata": {},
     "output_type": "execute_result"
    }
   ],
   "source": [
    "dt = \"2020-01-06 22:24:00\"\n",
    "df_c.loc[(df_c[\"date_time_start\"] <= dt) & (df_c[\"date_time_end\"] >= dt)]"
   ]
  },
  {
   "cell_type": "code",
   "execution_count": 28,
   "metadata": {},
   "outputs": [],
   "source": [
    "arr = []\n",
    "for x in df[\"date_time\"]:\n",
    "  fragment =  df_c.loc[(df_c[\"date_time_start\"] < x) & (df_c[\"date_time_end\"] > x)]\n",
    "\n",
    "\n",
    "  if fragment.shape[0] == 0 :\n",
    "      arr.append(None)\n",
    "  else:\n",
    "       arr.append(fragment.iloc[0][\"id\"])\n"
   ]
  },
  {
   "cell_type": "code",
   "execution_count": 43,
   "metadata": {},
   "outputs": [],
   "source": [
    "df[\"id\"] = pd.Series(arr).values\n",
    "df.to_csv(\"banijay_content_ratings_lookuptable.csv\", sep=\";\")"
   ]
  },
  {
   "cell_type": "code",
   "execution_count": 30,
   "metadata": {},
   "outputs": [
    {
     "name": "stdout",
     "output_type": "stream",
     "text": [
      "223462\n"
     ]
    }
   ],
   "source": [
    "print(df[\"content_id\"].isna().sum())"
   ]
  },
  {
   "cell_type": "code",
   "execution_count": 31,
   "metadata": {},
   "outputs": [
    {
     "data": {
      "text/plain": [
       "(1251982, 13)"
      ]
     },
     "execution_count": 31,
     "metadata": {},
     "output_type": "execute_result"
    }
   ],
   "source": [
    "df.shape"
   ]
  },
  {
   "cell_type": "code",
   "execution_count": 32,
   "metadata": {},
   "outputs": [
    {
     "data": {
      "text/plain": [
       "(2984, 14)"
      ]
     },
     "execution_count": 32,
     "metadata": {},
     "output_type": "execute_result"
    }
   ],
   "source": [
    "df_c.shape"
   ]
  },
  {
   "cell_type": "code",
   "execution_count": 33,
   "metadata": {},
   "outputs": [],
   "source": [
    "df_all = pd.merge(df_c, df, left_on = \"id\", right_on= \"content_id\", how=\"left\")"
   ]
  },
  {
   "cell_type": "code",
   "execution_count": 34,
   "metadata": {},
   "outputs": [
    {
     "data": {
      "text/plain": [
       "(1028578, 27)"
      ]
     },
     "execution_count": 34,
     "metadata": {},
     "output_type": "execute_result"
    }
   ],
   "source": [
    "df_all.shape"
   ]
  },
  {
   "cell_type": "code",
   "execution_count": 44,
   "metadata": {},
   "outputs": [],
   "source": [
    "df_merged = pd.merge(df, df_c, how = 'left', on = \"id\")"
   ]
  },
  {
   "cell_type": "code",
   "execution_count": 47,
   "metadata": {},
   "outputs": [
    {
     "data": {
      "text/plain": [
       "(1251982, 27)"
      ]
     },
     "execution_count": 47,
     "metadata": {},
     "output_type": "execute_result"
    }
   ],
   "source": [
    "df_merged.shape"
   ]
  },
  {
   "cell_type": "code",
   "execution_count": 50,
   "metadata": {},
   "outputs": [
    {
     "data": {
      "text/plain": [
       "Unnamed: 0_x            0\n",
       "Datum                   0\n",
       "Time                    0\n",
       "Program                 0\n",
       "Station                 0\n",
       "Target Group            0\n",
       "Broadcast Type          0\n",
       "Ratings Type            0\n",
       "Kdh%                    0\n",
       "Kdh000                  0\n",
       "Zadl%                   0\n",
       "date_time               0\n",
       "content_id         223462\n",
       "id                 223462\n",
       "Unnamed: 0_y       223462\n",
       "date               223462\n",
       "hosts              223462\n",
       "length             223462\n",
       "start              223462\n",
       "end                223462\n",
       "title              223462\n",
       "summary            223462\n",
       "keywords           223462\n",
       "date_time_start    223462\n",
       "date_time_end      223462\n",
       "show_id            223462\n",
       "fragment           223462\n",
       "dtype: int64"
      ]
     },
     "execution_count": 50,
     "metadata": {},
     "output_type": "execute_result"
    }
   ],
   "source": [
    "df_merged.isna().sum()"
   ]
  },
  {
   "cell_type": "code",
   "execution_count": 37,
   "metadata": {},
   "outputs": [
    {
     "data": {
      "text/html": [
       "<div>\n",
       "<style scoped>\n",
       "    .dataframe tbody tr th:only-of-type {\n",
       "        vertical-align: middle;\n",
       "    }\n",
       "\n",
       "    .dataframe tbody tr th {\n",
       "        vertical-align: top;\n",
       "    }\n",
       "\n",
       "    .dataframe thead th {\n",
       "        text-align: right;\n",
       "    }\n",
       "</style>\n",
       "<table border=\"1\" class=\"dataframe\">\n",
       "  <thead>\n",
       "    <tr style=\"text-align: right;\">\n",
       "      <th></th>\n",
       "      <th>show_id</th>\n",
       "      <th>fragment</th>\n",
       "      <th>content_id</th>\n",
       "      <th>date_time_start</th>\n",
       "      <th>date_time_end</th>\n",
       "      <th>date_time</th>\n",
       "    </tr>\n",
       "  </thead>\n",
       "  <tbody>\n",
       "    <tr>\n",
       "      <th>0</th>\n",
       "      <td>OP1__________-WON02197428</td>\n",
       "      <td>1</td>\n",
       "      <td>OP1__________-WON02197428_01</td>\n",
       "      <td>2021-02-01 22:20:11</td>\n",
       "      <td>2021-02-01 22:41:32</td>\n",
       "      <td>2021-02-01 22:21:00</td>\n",
       "    </tr>\n",
       "    <tr>\n",
       "      <th>1</th>\n",
       "      <td>OP1__________-WON02197428</td>\n",
       "      <td>1</td>\n",
       "      <td>OP1__________-WON02197428_01</td>\n",
       "      <td>2021-02-01 22:20:11</td>\n",
       "      <td>2021-02-01 22:41:32</td>\n",
       "      <td>2021-02-01 22:21:00</td>\n",
       "    </tr>\n",
       "    <tr>\n",
       "      <th>2</th>\n",
       "      <td>OP1__________-WON02197428</td>\n",
       "      <td>1</td>\n",
       "      <td>OP1__________-WON02197428_01</td>\n",
       "      <td>2021-02-01 22:20:11</td>\n",
       "      <td>2021-02-01 22:41:32</td>\n",
       "      <td>2021-02-01 22:21:00</td>\n",
       "    </tr>\n",
       "    <tr>\n",
       "      <th>3</th>\n",
       "      <td>OP1__________-WON02197428</td>\n",
       "      <td>1</td>\n",
       "      <td>OP1__________-WON02197428_01</td>\n",
       "      <td>2021-02-01 22:20:11</td>\n",
       "      <td>2021-02-01 22:41:32</td>\n",
       "      <td>2021-02-01 22:21:00</td>\n",
       "    </tr>\n",
       "    <tr>\n",
       "      <th>4</th>\n",
       "      <td>OP1__________-WON02197428</td>\n",
       "      <td>1</td>\n",
       "      <td>OP1__________-WON02197428_01</td>\n",
       "      <td>2021-02-01 22:20:11</td>\n",
       "      <td>2021-02-01 22:41:32</td>\n",
       "      <td>2021-02-01 22:21:00</td>\n",
       "    </tr>\n",
       "  </tbody>\n",
       "</table>\n",
       "</div>"
      ],
      "text/plain": [
       "                     show_id  fragment                    content_id  \\\n",
       "0  OP1__________-WON02197428         1  OP1__________-WON02197428_01   \n",
       "1  OP1__________-WON02197428         1  OP1__________-WON02197428_01   \n",
       "2  OP1__________-WON02197428         1  OP1__________-WON02197428_01   \n",
       "3  OP1__________-WON02197428         1  OP1__________-WON02197428_01   \n",
       "4  OP1__________-WON02197428         1  OP1__________-WON02197428_01   \n",
       "\n",
       "      date_time_start       date_time_end           date_time  \n",
       "0 2021-02-01 22:20:11 2021-02-01 22:41:32 2021-02-01 22:21:00  \n",
       "1 2021-02-01 22:20:11 2021-02-01 22:41:32 2021-02-01 22:21:00  \n",
       "2 2021-02-01 22:20:11 2021-02-01 22:41:32 2021-02-01 22:21:00  \n",
       "3 2021-02-01 22:20:11 2021-02-01 22:41:32 2021-02-01 22:21:00  \n",
       "4 2021-02-01 22:20:11 2021-02-01 22:41:32 2021-02-01 22:21:00  "
      ]
     },
     "execution_count": 37,
     "metadata": {},
     "output_type": "execute_result"
    }
   ],
   "source": [
    "df_all[[\"show_id\", \"fragment\",\"content_id\", \"date_time_start\", \"date_time_end\", \"date_time\"]].head()"
   ]
  },
  {
   "cell_type": "code",
   "execution_count": 38,
   "metadata": {},
   "outputs": [
    {
     "data": {
      "text/plain": [
       "Index(['Unnamed: 0_x', 'date', 'hosts', 'id', 'length', 'start', 'end',\n",
       "       'title', 'summary', 'keywords', 'date_time_start', 'date_time_end',\n",
       "       'show_id', 'fragment', 'Unnamed: 0_y', 'Datum', 'Time', 'Program',\n",
       "       'Station', 'Target Group', 'Broadcast Type', 'Ratings Type', 'Kdh%',\n",
       "       'Kdh000', 'Zadl%', 'date_time', 'content_id'],\n",
       "      dtype='object')"
      ]
     },
     "execution_count": 38,
     "metadata": {},
     "output_type": "execute_result"
    }
   ],
   "source": [
    "df_all.columns"
   ]
  },
  {
   "cell_type": "code",
   "execution_count": 39,
   "metadata": {},
   "outputs": [],
   "source": [
    "df_all.to_csv('banijay_op1data_content_ratings.csv', compression = 'zip' )\n"
   ]
  },
  {
   "cell_type": "code",
   "execution_count": 40,
   "metadata": {},
   "outputs": [],
   "source": [
    "# look_table = pd.read_csv(\"banijay_content_ratings_lookuptable.csv\", sep=\";\")"
   ]
  },
  {
   "cell_type": "code",
   "execution_count": 41,
   "metadata": {},
   "outputs": [],
   "source": [
    "# look_table.to_csv('banijay_content_ratings_lookuptable.csv', compression = 'zip' )"
   ]
  }
 ],
 "metadata": {
  "kernelspec": {
   "display_name": "Python 3.9.15 ('myenv')",
   "language": "python",
   "name": "python3"
  },
  "language_info": {
   "codemirror_mode": {
    "name": "ipython",
    "version": 3
   },
   "file_extension": ".py",
   "mimetype": "text/x-python",
   "name": "python",
   "nbconvert_exporter": "python",
   "pygments_lexer": "ipython3",
   "version": "3.9.15 (main, Nov  4 2022, 16:35:55) [MSC v.1916 64 bit (AMD64)]"
  },
  "orig_nbformat": 4,
  "vscode": {
   "interpreter": {
    "hash": "393bb08020fab8bd40ca9e2aa7df5fc05e1db75ff288187ead3b4a13d619f2e2"
   }
  }
 },
 "nbformat": 4,
 "nbformat_minor": 2
}
