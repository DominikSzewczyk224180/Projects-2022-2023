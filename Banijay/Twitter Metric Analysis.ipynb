{
 "cells": [
  {
   "cell_type": "code",
   "execution_count": 1,
   "metadata": {},
   "outputs": [
    {
     "data": {
      "text/html": [
       "<div>\n",
       "<style scoped>\n",
       "    .dataframe tbody tr th:only-of-type {\n",
       "        vertical-align: middle;\n",
       "    }\n",
       "\n",
       "    .dataframe tbody tr th {\n",
       "        vertical-align: top;\n",
       "    }\n",
       "\n",
       "    .dataframe thead th {\n",
       "        text-align: right;\n",
       "    }\n",
       "</style>\n",
       "<table border=\"1\" class=\"dataframe\">\n",
       "  <thead>\n",
       "    <tr style=\"text-align: right;\">\n",
       "      <th></th>\n",
       "      <th>referenced_tweets</th>\n",
       "      <th>possibly_sensitive</th>\n",
       "      <th>lang</th>\n",
       "      <th>text</th>\n",
       "      <th>edit_history_tweet_ids</th>\n",
       "      <th>author_id</th>\n",
       "      <th>created_at</th>\n",
       "      <th>id</th>\n",
       "      <th>public_metrics.retweet_count</th>\n",
       "      <th>public_metrics.reply_count</th>\n",
       "      <th>public_metrics.like_count</th>\n",
       "      <th>public_metrics.quote_count</th>\n",
       "      <th>author.id</th>\n",
       "      <th>author.public_metrics.followers_count</th>\n",
       "      <th>author.public_metrics.following_count</th>\n",
       "      <th>author.public_metrics.tweet_count</th>\n",
       "      <th>author.public_metrics.listed_count</th>\n",
       "      <th>author.name</th>\n",
       "      <th>author.username</th>\n",
       "    </tr>\n",
       "  </thead>\n",
       "  <tbody>\n",
       "    <tr>\n",
       "      <th>0</th>\n",
       "      <td>[{'type': 'replied_to', 'id': '160025955556878...</td>\n",
       "      <td>False</td>\n",
       "      <td>nl</td>\n",
       "      <td>Lees hier het gesprek terug: #Op1 \\n\\nhttps://...</td>\n",
       "      <td>[1600440065410453509]</td>\n",
       "      <td>17022916</td>\n",
       "      <td>2022-12-07T10:40:20.000Z</td>\n",
       "      <td>1600440065410453509</td>\n",
       "      <td>0</td>\n",
       "      <td>8</td>\n",
       "      <td>0</td>\n",
       "      <td>0</td>\n",
       "      <td>17022916</td>\n",
       "      <td>337078</td>\n",
       "      <td>1432</td>\n",
       "      <td>38840</td>\n",
       "      <td>2362</td>\n",
       "      <td>Op1</td>\n",
       "      <td>op1npo</td>\n",
       "    </tr>\n",
       "    <tr>\n",
       "      <th>1</th>\n",
       "      <td>[{'type': 'replied_to', 'id': '160025483213200...</td>\n",
       "      <td>False</td>\n",
       "      <td>nl</td>\n",
       "      <td>Lees hier het gesprek terug: #Op1 \\n\\nhttps://...</td>\n",
       "      <td>[1600440000520372225]</td>\n",
       "      <td>17022916</td>\n",
       "      <td>2022-12-07T10:40:05.000Z</td>\n",
       "      <td>1600440000520372225</td>\n",
       "      <td>0</td>\n",
       "      <td>0</td>\n",
       "      <td>0</td>\n",
       "      <td>0</td>\n",
       "      <td>17022916</td>\n",
       "      <td>337078</td>\n",
       "      <td>1432</td>\n",
       "      <td>38840</td>\n",
       "      <td>2362</td>\n",
       "      <td>Op1</td>\n",
       "      <td>op1npo</td>\n",
       "    </tr>\n",
       "    <tr>\n",
       "      <th>2</th>\n",
       "      <td>[{'type': 'replied_to', 'id': '160025268126773...</td>\n",
       "      <td>False</td>\n",
       "      <td>nl</td>\n",
       "      <td>@mariettehamer Lees hier het gesprek terug: #O...</td>\n",
       "      <td>[1600431542878314497]</td>\n",
       "      <td>17022916</td>\n",
       "      <td>2022-12-07T10:06:29.000Z</td>\n",
       "      <td>1600431542878314497</td>\n",
       "      <td>0</td>\n",
       "      <td>1</td>\n",
       "      <td>0</td>\n",
       "      <td>0</td>\n",
       "      <td>17022916</td>\n",
       "      <td>337078</td>\n",
       "      <td>1432</td>\n",
       "      <td>38840</td>\n",
       "      <td>2362</td>\n",
       "      <td>Op1</td>\n",
       "      <td>op1npo</td>\n",
       "    </tr>\n",
       "    <tr>\n",
       "      <th>3</th>\n",
       "      <td>[{'type': 'replied_to', 'id': '160025066981831...</td>\n",
       "      <td>False</td>\n",
       "      <td>nl</td>\n",
       "      <td>@fleurjongepier Lees hier het gesprek terug: #...</td>\n",
       "      <td>[1600431528479178754]</td>\n",
       "      <td>17022916</td>\n",
       "      <td>2022-12-07T10:06:25.000Z</td>\n",
       "      <td>1600431528479178754</td>\n",
       "      <td>0</td>\n",
       "      <td>0</td>\n",
       "      <td>2</td>\n",
       "      <td>0</td>\n",
       "      <td>17022916</td>\n",
       "      <td>337078</td>\n",
       "      <td>1432</td>\n",
       "      <td>38840</td>\n",
       "      <td>2362</td>\n",
       "      <td>Op1</td>\n",
       "      <td>op1npo</td>\n",
       "    </tr>\n",
       "    <tr>\n",
       "      <th>4</th>\n",
       "      <td>[{'type': 'replied_to', 'id': '160024856209630...</td>\n",
       "      <td>False</td>\n",
       "      <td>nl</td>\n",
       "      <td>@robdewijk Lees hier het gesprek terug: #Op1 \\...</td>\n",
       "      <td>[1600426335301767169]</td>\n",
       "      <td>17022916</td>\n",
       "      <td>2022-12-07T09:45:47.000Z</td>\n",
       "      <td>1600426335301767169</td>\n",
       "      <td>1</td>\n",
       "      <td>0</td>\n",
       "      <td>1</td>\n",
       "      <td>0</td>\n",
       "      <td>17022916</td>\n",
       "      <td>337078</td>\n",
       "      <td>1432</td>\n",
       "      <td>38840</td>\n",
       "      <td>2362</td>\n",
       "      <td>Op1</td>\n",
       "      <td>op1npo</td>\n",
       "    </tr>\n",
       "  </tbody>\n",
       "</table>\n",
       "</div>"
      ],
      "text/plain": [
       "                                   referenced_tweets  possibly_sensitive lang  \\\n",
       "0  [{'type': 'replied_to', 'id': '160025955556878...               False   nl   \n",
       "1  [{'type': 'replied_to', 'id': '160025483213200...               False   nl   \n",
       "2  [{'type': 'replied_to', 'id': '160025268126773...               False   nl   \n",
       "3  [{'type': 'replied_to', 'id': '160025066981831...               False   nl   \n",
       "4  [{'type': 'replied_to', 'id': '160024856209630...               False   nl   \n",
       "\n",
       "                                                text edit_history_tweet_ids  \\\n",
       "0  Lees hier het gesprek terug: #Op1 \\n\\nhttps://...  [1600440065410453509]   \n",
       "1  Lees hier het gesprek terug: #Op1 \\n\\nhttps://...  [1600440000520372225]   \n",
       "2  @mariettehamer Lees hier het gesprek terug: #O...  [1600431542878314497]   \n",
       "3  @fleurjongepier Lees hier het gesprek terug: #...  [1600431528479178754]   \n",
       "4  @robdewijk Lees hier het gesprek terug: #Op1 \\...  [1600426335301767169]   \n",
       "\n",
       "  author_id                created_at                   id  \\\n",
       "0  17022916  2022-12-07T10:40:20.000Z  1600440065410453509   \n",
       "1  17022916  2022-12-07T10:40:05.000Z  1600440000520372225   \n",
       "2  17022916  2022-12-07T10:06:29.000Z  1600431542878314497   \n",
       "3  17022916  2022-12-07T10:06:25.000Z  1600431528479178754   \n",
       "4  17022916  2022-12-07T09:45:47.000Z  1600426335301767169   \n",
       "\n",
       "   public_metrics.retweet_count  public_metrics.reply_count  \\\n",
       "0                             0                           8   \n",
       "1                             0                           0   \n",
       "2                             0                           1   \n",
       "3                             0                           0   \n",
       "4                             1                           0   \n",
       "\n",
       "   public_metrics.like_count  public_metrics.quote_count author.id  \\\n",
       "0                          0                           0  17022916   \n",
       "1                          0                           0  17022916   \n",
       "2                          0                           0  17022916   \n",
       "3                          2                           0  17022916   \n",
       "4                          1                           0  17022916   \n",
       "\n",
       "   author.public_metrics.followers_count  \\\n",
       "0                                 337078   \n",
       "1                                 337078   \n",
       "2                                 337078   \n",
       "3                                 337078   \n",
       "4                                 337078   \n",
       "\n",
       "   author.public_metrics.following_count  author.public_metrics.tweet_count  \\\n",
       "0                                   1432                              38840   \n",
       "1                                   1432                              38840   \n",
       "2                                   1432                              38840   \n",
       "3                                   1432                              38840   \n",
       "4                                   1432                              38840   \n",
       "\n",
       "   author.public_metrics.listed_count author.name author.username  \n",
       "0                                2362         Op1          op1npo  \n",
       "1                                2362         Op1          op1npo  \n",
       "2                                2362         Op1          op1npo  \n",
       "3                                2362         Op1          op1npo  \n",
       "4                                2362         Op1          op1npo  "
      ]
     },
     "execution_count": 1,
     "metadata": {},
     "output_type": "execute_result"
    }
   ],
   "source": [
    "import json\n",
    "import pandas as pd\n",
    "import matplotlib.pyplot as plt\n",
    "\n",
    "# read in the json file\n",
    "with open('C:/Users/domin/Desktop/Block B/2022-23b-1fcmgt-reg-ai-01-DominikSzewczyk224180/banijay_EDA/data/banijay_op1data_twitter_raw.json', 'rb') as f:\n",
    "    twitter_json = json.load(f)\n",
    "\n",
    "# convert the json file to a pandas dataframe\n",
    "df_op1_twitter = pd.json_normalize(twitter_json)\n",
    "\n",
    "df_op1_twitter.head()"
   ]
  },
  {
   "cell_type": "code",
   "execution_count": 2,
   "metadata": {},
   "outputs": [
    {
     "data": {
      "text/plain": [
       "(15946, 19)"
      ]
     },
     "execution_count": 2,
     "metadata": {},
     "output_type": "execute_result"
    }
   ],
   "source": [
    "df_op1_twitter.shape"
   ]
  },
  {
   "cell_type": "code",
   "execution_count": 3,
   "metadata": {},
   "outputs": [],
   "source": [
    "df_twitter = df_op1_twitter[df_op1_twitter['referenced_tweets'].isnull()]"
   ]
  },
  {
   "cell_type": "code",
   "execution_count": 4,
   "metadata": {},
   "outputs": [
    {
     "data": {
      "text/plain": [
       "(12167, 19)"
      ]
     },
     "execution_count": 4,
     "metadata": {},
     "output_type": "execute_result"
    }
   ],
   "source": [
    "df_twitter.shape"
   ]
  },
  {
   "cell_type": "code",
   "execution_count": 5,
   "metadata": {},
   "outputs": [
    {
     "data": {
      "text/plain": [
       "5        2022-12-07T07:01:00.000Z\n",
       "6        2022-12-07T06:41:00.000Z\n",
       "7        2022-12-07T06:21:00.000Z\n",
       "8        2022-12-07T06:01:00.000Z\n",
       "9        2022-12-06T22:43:04.000Z\n",
       "                   ...           \n",
       "15941    2020-01-06T21:33:21.000Z\n",
       "15942    2020-01-06T21:23:26.000Z\n",
       "15943    2020-01-06T21:11:53.000Z\n",
       "15944    2020-01-06T19:25:00.000Z\n",
       "15945    2020-01-06T17:55:01.000Z\n",
       "Name: created_at, Length: 12167, dtype: object"
      ]
     },
     "execution_count": 5,
     "metadata": {},
     "output_type": "execute_result"
    }
   ],
   "source": [
    "df_twitter[\"created_at\"]"
   ]
  },
  {
   "cell_type": "code",
   "execution_count": 6,
   "metadata": {},
   "outputs": [
    {
     "name": "stdout",
     "output_type": "stream",
     "text": [
      "5        2022-12-07 07:01:00.000\n",
      "6        2022-12-07 06:41:00.000\n",
      "7        2022-12-07 06:21:00.000\n",
      "8        2022-12-07 06:01:00.000\n",
      "9        2022-12-06 22:43:04.000\n",
      "                  ...           \n",
      "15941    2020-01-06 21:33:21.000\n",
      "15942    2020-01-06 21:23:26.000\n",
      "15943    2020-01-06 21:11:53.000\n",
      "15944    2020-01-06 19:25:00.000\n",
      "15945    2020-01-06 17:55:01.000\n",
      "Name: created_at, Length: 12167, dtype: object\n"
     ]
    },
    {
     "name": "stderr",
     "output_type": "stream",
     "text": [
      "C:\\Users\\domin\\AppData\\Local\\Temp\\ipykernel_7616\\1329511516.py:1: SettingWithCopyWarning: \n",
      "A value is trying to be set on a copy of a slice from a DataFrame.\n",
      "Try using .loc[row_indexer,col_indexer] = value instead\n",
      "\n",
      "See the caveats in the documentation: https://pandas.pydata.org/pandas-docs/stable/user_guide/indexing.html#returning-a-view-versus-a-copy\n",
      "  df_twitter[\"created_at\"] = df_twitter[\"created_at\"].replace({'T':' '}, regex=True)\n",
      "C:\\Users\\domin\\AppData\\Local\\Temp\\ipykernel_7616\\1329511516.py:2: SettingWithCopyWarning: \n",
      "A value is trying to be set on a copy of a slice from a DataFrame.\n",
      "Try using .loc[row_indexer,col_indexer] = value instead\n",
      "\n",
      "See the caveats in the documentation: https://pandas.pydata.org/pandas-docs/stable/user_guide/indexing.html#returning-a-view-versus-a-copy\n",
      "  df_twitter[\"created_at\"] = df_twitter[\"created_at\"].str[:-1]\n"
     ]
    }
   ],
   "source": [
    "df_twitter[\"created_at\"] = df_twitter[\"created_at\"].replace({'T':' '}, regex=True)\n",
    "df_twitter[\"created_at\"] = df_twitter[\"created_at\"].str[:-1]\n",
    "print (df_twitter[\"created_at\"])"
   ]
  },
  {
   "cell_type": "code",
   "execution_count": 7,
   "metadata": {},
   "outputs": [],
   "source": [
    "df_all = pd.read_csv('banijay_op1data_content_ratings.csv', sep= \",\", compression='zip')"
   ]
  },
  {
   "cell_type": "code",
   "execution_count": 8,
   "metadata": {},
   "outputs": [
    {
     "data": {
      "text/plain": [
       "0          2021-02-01 22:41:32\n",
       "1          2021-02-01 22:41:32\n",
       "2          2021-02-01 22:41:32\n",
       "3          2021-02-01 22:41:32\n",
       "4          2021-02-01 22:41:32\n",
       "                  ...         \n",
       "1028573    2022-08-31 23:06:41\n",
       "1028574    2022-08-31 23:06:41\n",
       "1028575    2022-08-31 23:06:41\n",
       "1028576    2022-08-31 23:06:41\n",
       "1028577    2022-08-31 23:06:41\n",
       "Name: date_time_end, Length: 1028578, dtype: object"
      ]
     },
     "execution_count": 8,
     "metadata": {},
     "output_type": "execute_result"
    }
   ],
   "source": [
    "df_all[\"date_time_end\"]"
   ]
  },
  {
   "cell_type": "code",
   "execution_count": 9,
   "metadata": {},
   "outputs": [
    {
     "name": "stderr",
     "output_type": "stream",
     "text": [
      "C:\\Users\\domin\\AppData\\Local\\Temp\\ipykernel_7616\\1395909696.py:3: SettingWithCopyWarning: \n",
      "A value is trying to be set on a copy of a slice from a DataFrame.\n",
      "Try using .loc[row_indexer,col_indexer] = value instead\n",
      "\n",
      "See the caveats in the documentation: https://pandas.pydata.org/pandas-docs/stable/user_guide/indexing.html#returning-a-view-versus-a-copy\n",
      "  df_twitter[\"created_at\"] = pd.to_datetime(df_op1_twitter[\"created_at\"],format='%Y-%m-%d %H:%M:%S')\n"
     ]
    }
   ],
   "source": [
    "df_all[\"date_time_end\"] = pd.to_datetime(df_all[\"date_time_end\"])\n",
    "df_all[\"date_time_start\"] = pd.to_datetime(df_all[\"date_time_start\"])\n",
    "df_twitter[\"created_at\"] = pd.to_datetime(df_op1_twitter[\"created_at\"],format='%Y-%m-%d %H:%M:%S')"
   ]
  },
  {
   "cell_type": "code",
   "execution_count": 10,
   "metadata": {},
   "outputs": [
    {
     "name": "stderr",
     "output_type": "stream",
     "text": [
      "C:\\Users\\domin\\AppData\\Local\\Temp\\ipykernel_7616\\2261024924.py:3: SettingWithCopyWarning: \n",
      "A value is trying to be set on a copy of a slice from a DataFrame.\n",
      "Try using .loc[row_indexer,col_indexer] = value instead\n",
      "\n",
      "See the caveats in the documentation: https://pandas.pydata.org/pandas-docs/stable/user_guide/indexing.html#returning-a-view-versus-a-copy\n",
      "  df_twitter[\"created_at\"] = df_twitter[\"created_at\"].dt.date\n"
     ]
    }
   ],
   "source": [
    "df_all[\"date_start\"] = df_all[\"date_time_start\"].dt.date\n",
    "df_all[\"date_end\"] = df_all[\"date_time_end\"].dt.date\n",
    "df_twitter[\"created_at\"] = df_twitter[\"created_at\"].dt.date\n"
   ]
  },
  {
   "cell_type": "code",
   "execution_count": 11,
   "metadata": {},
   "outputs": [],
   "source": [
    "arr = []\n",
    "for x in df_twitter[\"created_at\"]:\n",
    "  fragment =  df_all.loc[(df_all[\"date_start\"] <= x) & (df_all[\"date_end\"] >= x)]\n",
    "\n",
    "\n",
    "  if fragment.shape[0] == 0 :\n",
    "      arr.append(None)\n",
    "  else:\n",
    "       arr.append(fragment.iloc[0][\"id\"])"
   ]
  },
  {
   "cell_type": "code",
   "execution_count": 12,
   "metadata": {},
   "outputs": [
    {
     "name": "stderr",
     "output_type": "stream",
     "text": [
      "C:\\Users\\domin\\AppData\\Local\\Temp\\ipykernel_7616\\4126777343.py:1: SettingWithCopyWarning: \n",
      "A value is trying to be set on a copy of a slice from a DataFrame.\n",
      "Try using .loc[row_indexer,col_indexer] = value instead\n",
      "\n",
      "See the caveats in the documentation: https://pandas.pydata.org/pandas-docs/stable/user_guide/indexing.html#returning-a-view-versus-a-copy\n",
      "  df_twitter[\"id\"] = pd.Series(arr).values\n"
     ]
    }
   ],
   "source": [
    "df_twitter[\"id\"] = pd.Series(arr).values\n",
    "df_all_twitter = pd.merge(df_all, df_twitter, left_on = \"id\", right_on= \"id\", how=\"left\")\n",
    "df_all_twitter.to_csv(\"banijay_op1data_content_ratings_twitter.csv\", sep=\";\", compression = 'zip')"
   ]
  },
  {
   "cell_type": "code",
   "execution_count": 13,
   "metadata": {},
   "outputs": [
    {
     "data": {
      "text/plain": [
       "Index(['Unnamed: 0', 'Unnamed: 0_x', 'date', 'hosts', 'id', 'length', 'start',\n",
       "       'end', 'title', 'summary', 'keywords', 'date_time_start',\n",
       "       'date_time_end', 'show_id', 'fragment', 'Unnamed: 0_y', 'Datum', 'Time',\n",
       "       'Program', 'Station', 'Target Group', 'Broadcast Type', 'Ratings Type',\n",
       "       'Kdh%', 'Kdh000', 'Zadl%', 'date_time', 'content_id', 'date_start',\n",
       "       'date_end', 'referenced_tweets', 'possibly_sensitive', 'lang', 'text',\n",
       "       'edit_history_tweet_ids', 'author_id', 'created_at',\n",
       "       'public_metrics.retweet_count', 'public_metrics.reply_count',\n",
       "       'public_metrics.like_count', 'public_metrics.quote_count', 'author.id',\n",
       "       'author.public_metrics.followers_count',\n",
       "       'author.public_metrics.following_count',\n",
       "       'author.public_metrics.tweet_count',\n",
       "       'author.public_metrics.listed_count', 'author.name', 'author.username'],\n",
       "      dtype='object')"
      ]
     },
     "execution_count": 13,
     "metadata": {},
     "output_type": "execute_result"
    }
   ],
   "source": [
    "df_all_twitter.columns"
   ]
  },
  {
   "cell_type": "code",
   "execution_count": 14,
   "metadata": {},
   "outputs": [
    {
     "data": {
      "text/html": [
       "<div>\n",
       "<style scoped>\n",
       "    .dataframe tbody tr th:only-of-type {\n",
       "        vertical-align: middle;\n",
       "    }\n",
       "\n",
       "    .dataframe tbody tr th {\n",
       "        vertical-align: top;\n",
       "    }\n",
       "\n",
       "    .dataframe thead th {\n",
       "        text-align: right;\n",
       "    }\n",
       "</style>\n",
       "<table border=\"1\" class=\"dataframe\">\n",
       "  <thead>\n",
       "    <tr style=\"text-align: right;\">\n",
       "      <th></th>\n",
       "      <th>id</th>\n",
       "      <th>fragment</th>\n",
       "      <th>content_id</th>\n",
       "      <th>date_start</th>\n",
       "      <th>date_end</th>\n",
       "      <th>date_time</th>\n",
       "      <th>created_at</th>\n",
       "    </tr>\n",
       "  </thead>\n",
       "  <tbody>\n",
       "    <tr>\n",
       "      <th>0</th>\n",
       "      <td>OP1__________-WON02197428_01</td>\n",
       "      <td>1</td>\n",
       "      <td>OP1__________-WON02197428_01</td>\n",
       "      <td>2021-02-01</td>\n",
       "      <td>2021-02-01</td>\n",
       "      <td>2021-02-01 22:21:00</td>\n",
       "      <td>2021-02-01</td>\n",
       "    </tr>\n",
       "    <tr>\n",
       "      <th>1</th>\n",
       "      <td>OP1__________-WON02197428_01</td>\n",
       "      <td>1</td>\n",
       "      <td>OP1__________-WON02197428_01</td>\n",
       "      <td>2021-02-01</td>\n",
       "      <td>2021-02-01</td>\n",
       "      <td>2021-02-01 22:21:00</td>\n",
       "      <td>2021-02-01</td>\n",
       "    </tr>\n",
       "    <tr>\n",
       "      <th>2</th>\n",
       "      <td>OP1__________-WON02197428_01</td>\n",
       "      <td>1</td>\n",
       "      <td>OP1__________-WON02197428_01</td>\n",
       "      <td>2021-02-01</td>\n",
       "      <td>2021-02-01</td>\n",
       "      <td>2021-02-01 22:21:00</td>\n",
       "      <td>2021-02-01</td>\n",
       "    </tr>\n",
       "    <tr>\n",
       "      <th>3</th>\n",
       "      <td>OP1__________-WON02197428_01</td>\n",
       "      <td>1</td>\n",
       "      <td>OP1__________-WON02197428_01</td>\n",
       "      <td>2021-02-01</td>\n",
       "      <td>2021-02-01</td>\n",
       "      <td>2021-02-01 22:21:00</td>\n",
       "      <td>2021-02-01</td>\n",
       "    </tr>\n",
       "    <tr>\n",
       "      <th>4</th>\n",
       "      <td>OP1__________-WON02197428_01</td>\n",
       "      <td>1</td>\n",
       "      <td>OP1__________-WON02197428_01</td>\n",
       "      <td>2021-02-01</td>\n",
       "      <td>2021-02-01</td>\n",
       "      <td>2021-02-01 22:21:00</td>\n",
       "      <td>2021-02-01</td>\n",
       "    </tr>\n",
       "    <tr>\n",
       "      <th>...</th>\n",
       "      <td>...</td>\n",
       "      <td>...</td>\n",
       "      <td>...</td>\n",
       "      <td>...</td>\n",
       "      <td>...</td>\n",
       "      <td>...</td>\n",
       "      <td>...</td>\n",
       "    </tr>\n",
       "    <tr>\n",
       "      <th>99995</th>\n",
       "      <td>OP1__________-WON02237291_01</td>\n",
       "      <td>1</td>\n",
       "      <td>OP1__________-WON02237291_01</td>\n",
       "      <td>2021-07-01</td>\n",
       "      <td>2021-07-01</td>\n",
       "      <td>2021-07-01 22:38:00</td>\n",
       "      <td>2021-07-01</td>\n",
       "    </tr>\n",
       "    <tr>\n",
       "      <th>99996</th>\n",
       "      <td>OP1__________-WON02237291_01</td>\n",
       "      <td>1</td>\n",
       "      <td>OP1__________-WON02237291_01</td>\n",
       "      <td>2021-07-01</td>\n",
       "      <td>2021-07-01</td>\n",
       "      <td>2021-07-01 22:38:00</td>\n",
       "      <td>2021-07-01</td>\n",
       "    </tr>\n",
       "    <tr>\n",
       "      <th>99997</th>\n",
       "      <td>OP1__________-WON02237291_01</td>\n",
       "      <td>1</td>\n",
       "      <td>OP1__________-WON02237291_01</td>\n",
       "      <td>2021-07-01</td>\n",
       "      <td>2021-07-01</td>\n",
       "      <td>2021-07-01 22:38:00</td>\n",
       "      <td>2021-07-01</td>\n",
       "    </tr>\n",
       "    <tr>\n",
       "      <th>99998</th>\n",
       "      <td>OP1__________-WON02237291_01</td>\n",
       "      <td>1</td>\n",
       "      <td>OP1__________-WON02237291_01</td>\n",
       "      <td>2021-07-01</td>\n",
       "      <td>2021-07-01</td>\n",
       "      <td>2021-07-01 22:38:00</td>\n",
       "      <td>2021-07-01</td>\n",
       "    </tr>\n",
       "    <tr>\n",
       "      <th>99999</th>\n",
       "      <td>OP1__________-WON02237291_01</td>\n",
       "      <td>1</td>\n",
       "      <td>OP1__________-WON02237291_01</td>\n",
       "      <td>2021-07-01</td>\n",
       "      <td>2021-07-01</td>\n",
       "      <td>2021-07-01 22:38:00</td>\n",
       "      <td>2021-07-01</td>\n",
       "    </tr>\n",
       "  </tbody>\n",
       "</table>\n",
       "<p>100000 rows × 7 columns</p>\n",
       "</div>"
      ],
      "text/plain": [
       "                                 id  fragment                    content_id  \\\n",
       "0      OP1__________-WON02197428_01         1  OP1__________-WON02197428_01   \n",
       "1      OP1__________-WON02197428_01         1  OP1__________-WON02197428_01   \n",
       "2      OP1__________-WON02197428_01         1  OP1__________-WON02197428_01   \n",
       "3      OP1__________-WON02197428_01         1  OP1__________-WON02197428_01   \n",
       "4      OP1__________-WON02197428_01         1  OP1__________-WON02197428_01   \n",
       "...                             ...       ...                           ...   \n",
       "99995  OP1__________-WON02237291_01         1  OP1__________-WON02237291_01   \n",
       "99996  OP1__________-WON02237291_01         1  OP1__________-WON02237291_01   \n",
       "99997  OP1__________-WON02237291_01         1  OP1__________-WON02237291_01   \n",
       "99998  OP1__________-WON02237291_01         1  OP1__________-WON02237291_01   \n",
       "99999  OP1__________-WON02237291_01         1  OP1__________-WON02237291_01   \n",
       "\n",
       "       date_start    date_end            date_time  created_at  \n",
       "0      2021-02-01  2021-02-01  2021-02-01 22:21:00  2021-02-01  \n",
       "1      2021-02-01  2021-02-01  2021-02-01 22:21:00  2021-02-01  \n",
       "2      2021-02-01  2021-02-01  2021-02-01 22:21:00  2021-02-01  \n",
       "3      2021-02-01  2021-02-01  2021-02-01 22:21:00  2021-02-01  \n",
       "4      2021-02-01  2021-02-01  2021-02-01 22:21:00  2021-02-01  \n",
       "...           ...         ...                  ...         ...  \n",
       "99995  2021-07-01  2021-07-01  2021-07-01 22:38:00  2021-07-01  \n",
       "99996  2021-07-01  2021-07-01  2021-07-01 22:38:00  2021-07-01  \n",
       "99997  2021-07-01  2021-07-01  2021-07-01 22:38:00  2021-07-01  \n",
       "99998  2021-07-01  2021-07-01  2021-07-01 22:38:00  2021-07-01  \n",
       "99999  2021-07-01  2021-07-01  2021-07-01 22:38:00  2021-07-01  \n",
       "\n",
       "[100000 rows x 7 columns]"
      ]
     },
     "execution_count": 14,
     "metadata": {},
     "output_type": "execute_result"
    }
   ],
   "source": [
    "df_all_twitter[[\"id\", \"fragment\",\"content_id\", \"date_start\", \"date_end\", \"date_time\",\"created_at\"]].head(100000)"
   ]
  },
  {
   "cell_type": "code",
   "execution_count": 15,
   "metadata": {},
   "outputs": [],
   "source": [
    "df_all_twitter.head(10000).to_csv(\"demo.csv\")"
   ]
  },
  {
   "cell_type": "code",
   "execution_count": 16,
   "metadata": {},
   "outputs": [
    {
     "data": {
      "text/plain": [
       "(4579814, 48)"
      ]
     },
     "execution_count": 16,
     "metadata": {},
     "output_type": "execute_result"
    }
   ],
   "source": [
    "df_all_twitter.shape"
   ]
  },
  {
   "cell_type": "code",
   "execution_count": 17,
   "metadata": {},
   "outputs": [
    {
     "data": {
      "text/plain": [
       "763797"
      ]
     },
     "execution_count": 17,
     "metadata": {},
     "output_type": "execute_result"
    }
   ],
   "source": [
    "df_all_twitter[\"created_at\"].isna().sum()"
   ]
  },
  {
   "cell_type": "code",
   "execution_count": 18,
   "metadata": {},
   "outputs": [],
   "source": [
    "df_all_twitter.to_csv('banijay_op1data_content_ratings_twitter.csv', compression = 'zip' )"
   ]
  },
  {
   "attachments": {},
   "cell_type": "markdown",
   "metadata": {},
   "source": [
    "---\n",
    "# Twitter Metric Analysis\n",
    "---"
   ]
  },
  {
   "cell_type": "code",
   "execution_count": 19,
   "metadata": {},
   "outputs": [
    {
     "data": {
      "text/plain": [
       "Index(['Unnamed: 0', 'Unnamed: 0_x', 'date', 'hosts', 'id', 'length', 'start',\n",
       "       'end', 'title', 'summary', 'keywords', 'date_time_start',\n",
       "       'date_time_end', 'show_id', 'fragment', 'Unnamed: 0_y', 'Datum', 'Time',\n",
       "       'Program', 'Station', 'Target Group', 'Broadcast Type', 'Ratings Type',\n",
       "       'Kdh%', 'Kdh000', 'Zadl%', 'date_time', 'content_id', 'date_start',\n",
       "       'date_end', 'referenced_tweets', 'possibly_sensitive', 'lang', 'text',\n",
       "       'edit_history_tweet_ids', 'author_id', 'created_at',\n",
       "       'public_metrics.retweet_count', 'public_metrics.reply_count',\n",
       "       'public_metrics.like_count', 'public_metrics.quote_count', 'author.id',\n",
       "       'author.public_metrics.followers_count',\n",
       "       'author.public_metrics.following_count',\n",
       "       'author.public_metrics.tweet_count',\n",
       "       'author.public_metrics.listed_count', 'author.name', 'author.username'],\n",
       "      dtype='object')"
      ]
     },
     "execution_count": 19,
     "metadata": {},
     "output_type": "execute_result"
    }
   ],
   "source": [
    "df_all_twitter.columns"
   ]
  },
  {
   "attachments": {},
   "cell_type": "markdown",
   "metadata": {},
   "source": [
    "### Calculate the twitter engagement for each show"
   ]
  },
  {
   "cell_type": "code",
   "execution_count": 20,
   "metadata": {},
   "outputs": [],
   "source": [
    "df_all_twitter[\"engagement\"] = ((df_all_twitter[\"public_metrics.like_count\"] + df_all_twitter[\"public_metrics.retweet_count\"] + df_all_twitter[\"public_metrics.quote_count\"] + df_all_twitter[\"public_metrics.reply_count\"]) / df_all_twitter[\"author.public_metrics.followers_count\"]) * 100"
   ]
  },
  {
   "cell_type": "code",
   "execution_count": 21,
   "metadata": {},
   "outputs": [
    {
     "data": {
      "text/plain": [
       "0          0.008307\n",
       "1          0.012460\n",
       "2          0.011273\n",
       "3          0.059037\n",
       "4          0.032337\n",
       "             ...   \n",
       "4579809         NaN\n",
       "4579810         NaN\n",
       "4579811         NaN\n",
       "4579812         NaN\n",
       "4579813         NaN\n",
       "Name: engagement, Length: 4579814, dtype: float64"
      ]
     },
     "execution_count": 21,
     "metadata": {},
     "output_type": "execute_result"
    }
   ],
   "source": [
    "df_all_twitter[\"engagement\"]"
   ]
  },
  {
   "cell_type": "code",
   "execution_count": 22,
   "metadata": {},
   "outputs": [],
   "source": [
    "df_all_twitter = df_all_twitter[df_all_twitter['engagement'].notna()]"
   ]
  },
  {
   "cell_type": "code",
   "execution_count": 23,
   "metadata": {},
   "outputs": [
    {
     "data": {
      "text/plain": [
       "0"
      ]
     },
     "execution_count": 23,
     "metadata": {},
     "output_type": "execute_result"
    }
   ],
   "source": [
    "df_all_twitter[\"engagement\"].isna().sum()"
   ]
  },
  {
   "cell_type": "code",
   "execution_count": 24,
   "metadata": {},
   "outputs": [],
   "source": [
    "# df_all_twitter[\"engagement\"]  = [\"{:.2%}\".format(el)  for el in df_all_twitter[\"engagement\"]]\n",
    "# df_all_twitter[\"engagement\"].head()"
   ]
  },
  {
   "attachments": {},
   "cell_type": "markdown",
   "metadata": {},
   "source": [
    "### Visualize the top 5 shows based on twitter engagement"
   ]
  },
  {
   "cell_type": "code",
   "execution_count": 25,
   "metadata": {},
   "outputs": [],
   "source": [
    "df_engagement = df_all_twitter.sort_values(by = \"engagement\", ascending= False)"
   ]
  },
  {
   "cell_type": "code",
   "execution_count": 26,
   "metadata": {},
   "outputs": [],
   "source": [
    "df_uniq = df_engagement.drop_duplicates(\"id\")"
   ]
  },
  {
   "cell_type": "code",
   "execution_count": 27,
   "metadata": {},
   "outputs": [],
   "source": [
    "df_id_engagement = df_uniq[[\"id\", \"engagement\",\"title\"]]"
   ]
  },
  {
   "cell_type": "code",
   "execution_count": 28,
   "metadata": {},
   "outputs": [
    {
     "data": {
      "text/html": [
       "<div>\n",
       "<style scoped>\n",
       "    .dataframe tbody tr th:only-of-type {\n",
       "        vertical-align: middle;\n",
       "    }\n",
       "\n",
       "    .dataframe tbody tr th {\n",
       "        vertical-align: top;\n",
       "    }\n",
       "\n",
       "    .dataframe thead th {\n",
       "        text-align: right;\n",
       "    }\n",
       "</style>\n",
       "<table border=\"1\" class=\"dataframe\">\n",
       "  <thead>\n",
       "    <tr style=\"text-align: right;\">\n",
       "      <th></th>\n",
       "      <th>id</th>\n",
       "      <th>engagement</th>\n",
       "      <th>title</th>\n",
       "    </tr>\n",
       "  </thead>\n",
       "  <tbody>\n",
       "    <tr>\n",
       "      <th>1884224</th>\n",
       "      <td>OP1__________-WON02323453_01</td>\n",
       "      <td>2.328838</td>\n",
       "      <td>Op1 - De opening van maandag 13 juni</td>\n",
       "    </tr>\n",
       "    <tr>\n",
       "      <th>158361</th>\n",
       "      <td>OP1__________-WON02275165_01</td>\n",
       "      <td>1.922404</td>\n",
       "      <td>Op1 - De opening van woensdag 1 december</td>\n",
       "    </tr>\n",
       "    <tr>\n",
       "      <th>1755957</th>\n",
       "      <td>OP1__________-WON02145145_01</td>\n",
       "      <td>1.669347</td>\n",
       "      <td>Politiek verslaggever Marloes Lemsom en Dieder...</td>\n",
       "    </tr>\n",
       "    <tr>\n",
       "      <th>664686</th>\n",
       "      <td>OP1__________-WON02306111_01</td>\n",
       "      <td>1.315423</td>\n",
       "      <td>Op1 - De opening van 5 april</td>\n",
       "    </tr>\n",
       "    <tr>\n",
       "      <th>62280</th>\n",
       "      <td>OP1__________-WON02113058_01</td>\n",
       "      <td>1.069782</td>\n",
       "      <td>Kinderarts-immunoloog Emmeline Buddingh over v...</td>\n",
       "    </tr>\n",
       "  </tbody>\n",
       "</table>\n",
       "</div>"
      ],
      "text/plain": [
       "                                   id  engagement  \\\n",
       "1884224  OP1__________-WON02323453_01    2.328838   \n",
       "158361   OP1__________-WON02275165_01    1.922404   \n",
       "1755957  OP1__________-WON02145145_01    1.669347   \n",
       "664686   OP1__________-WON02306111_01    1.315423   \n",
       "62280    OP1__________-WON02113058_01    1.069782   \n",
       "\n",
       "                                                     title  \n",
       "1884224               Op1 - De opening van maandag 13 juni  \n",
       "158361            Op1 - De opening van woensdag 1 december  \n",
       "1755957  Politiek verslaggever Marloes Lemsom en Dieder...  \n",
       "664686                        Op1 - De opening van 5 april  \n",
       "62280    Kinderarts-immunoloog Emmeline Buddingh over v...  "
      ]
     },
     "execution_count": 28,
     "metadata": {},
     "output_type": "execute_result"
    }
   ],
   "source": [
    "df_id_engagement.head(5)"
   ]
  },
  {
   "attachments": {},
   "cell_type": "markdown",
   "metadata": {},
   "source": [
    "### Investigate correlations between twitter engagement and ratings"
   ]
  },
  {
   "cell_type": "code",
   "execution_count": 29,
   "metadata": {},
   "outputs": [],
   "source": [
    "df_ratings = df_uniq.groupby(df_uniq.id)['Kdh000'].head(200)"
   ]
  },
  {
   "cell_type": "code",
   "execution_count": 30,
   "metadata": {},
   "outputs": [],
   "source": [
    "df_something = df_uniq.groupby(df_uniq.id)['engagement'].head(200)"
   ]
  },
  {
   "cell_type": "code",
   "execution_count": 31,
   "metadata": {},
   "outputs": [
    {
     "data": {
      "image/png": "[encoded data removed]",
      "text/plain": [
       "<Figure size 640x480 with 2 Axes>"
      ]
     },
     "metadata": {},
     "output_type": "display_data"
    }
   ],
   "source": [
    "fig, ax = plt.subplots(1,2)\n",
    "ax[0].bar(df_all_twitter[\"id\"].unique(),df_something)\n",
    "ax[1].bar(df_all_twitter[\"id\"].unique(),df_ratings , color= \"orange\")\n",
    "ax[0].set_xlabel(\"200 shows\")\n",
    "ax[0].set_title(\"Investigate correlations between twitter engagement and ratings \\n Engagement\")\n",
    "ax[1].set_xlabel(\"200 shows\")\n",
    "ax[1].set_title(\"\\n Raitings\")\n",
    "plt.show()"
   ]
  },
  {
   "cell_type": "code",
   "execution_count": 32,
   "metadata": {},
   "outputs": [],
   "source": [
    "corr_matrix = df_all_twitter[[\"Kdh000\", \"engagement\"]].corr()"
   ]
  },
  {
   "cell_type": "code",
   "execution_count": 33,
   "metadata": {},
   "outputs": [
    {
     "data": {
      "text/html": [
       "<div>\n",
       "<style scoped>\n",
       "    .dataframe tbody tr th:only-of-type {\n",
       "        vertical-align: middle;\n",
       "    }\n",
       "\n",
       "    .dataframe tbody tr th {\n",
       "        vertical-align: top;\n",
       "    }\n",
       "\n",
       "    .dataframe thead th {\n",
       "        text-align: right;\n",
       "    }\n",
       "</style>\n",
       "<table border=\"1\" class=\"dataframe\">\n",
       "  <thead>\n",
       "    <tr style=\"text-align: right;\">\n",
       "      <th></th>\n",
       "      <th>Kdh000</th>\n",
       "      <th>engagement</th>\n",
       "    </tr>\n",
       "  </thead>\n",
       "  <tbody>\n",
       "    <tr>\n",
       "      <th>Kdh000</th>\n",
       "      <td>1.000000</td>\n",
       "      <td>0.007469</td>\n",
       "    </tr>\n",
       "    <tr>\n",
       "      <th>engagement</th>\n",
       "      <td>0.007469</td>\n",
       "      <td>1.000000</td>\n",
       "    </tr>\n",
       "  </tbody>\n",
       "</table>\n",
       "</div>"
      ],
      "text/plain": [
       "              Kdh000  engagement\n",
       "Kdh000      1.000000    0.007469\n",
       "engagement  0.007469    1.000000"
      ]
     },
     "execution_count": 33,
     "metadata": {},
     "output_type": "execute_result"
    }
   ],
   "source": [
    "corr_matrix[[\"Kdh000\", \"engagement\"]]"
   ]
  },
  {
   "cell_type": "code",
   "execution_count": 34,
   "metadata": {},
   "outputs": [],
   "source": [
    "import seaborn as sn"
   ]
  },
  {
   "cell_type": "code",
   "execution_count": 35,
   "metadata": {},
   "outputs": [
    {
     "data": {
      "image/png": "[encoded data removed]",
      "text/plain": [
       "<Figure size 640x480 with 2 Axes>"
      ]
     },
     "metadata": {},
     "output_type": "display_data"
    }
   ],
   "source": [
    "sn.heatmap(corr_matrix, annot=True)\n",
    "plt.show()"
   ]
  },
  {
   "attachments": {},
   "cell_type": "markdown",
   "metadata": {},
   "source": [
    "There is no corelation between twitter engagement and ratings"
   ]
  },
  {
   "cell_type": "code",
   "execution_count": 36,
   "metadata": {},
   "outputs": [],
   "source": [
    "df_all_twitter.to_csv(\"Usecase4.csv\", compression = 'zip')"
   ]
  }
 ],
 "metadata": {
  "kernelspec": {
   "display_name": "myenv",
   "language": "python",
   "name": "python3"
  },
  "language_info": {
   "codemirror_mode": {
    "name": "ipython",
    "version": 3
   },
   "file_extension": ".py",
   "mimetype": "text/x-python",
   "name": "python",
   "nbconvert_exporter": "python",
   "pygments_lexer": "ipython3",
   "version": "3.9.15 (main, Nov  4 2022, 16:35:55) [MSC v.1916 64 bit (AMD64)]"
  },
  "orig_nbformat": 4,
  "vscode": {
   "interpreter": {
    "hash": "393bb08020fab8bd40ca9e2aa7df5fc05e1db75ff288187ead3b4a13d619f2e2"
   }
  }
 },
 "nbformat": 4,
 "nbformat_minor": 2
}
